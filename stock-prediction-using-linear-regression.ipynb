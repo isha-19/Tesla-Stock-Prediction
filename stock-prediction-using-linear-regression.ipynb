{
 "cells": [
  {
   "cell_type": "markdown",
   "metadata": {
    "papermill": {
     "duration": 0.020098,
     "end_time": "2020-11-22T21:42:02.523249",
     "exception": false,
     "start_time": "2020-11-22T21:42:02.503151",
     "status": "completed"
    },
    "tags": []
   },
   "source": [
    "# Importing Libraries"
   ]
  },
  {
   "cell_type": "code",
   "execution_count": 16,
   "metadata": {
    "_cell_guid": "b1076dfc-b9ad-4769-8c92-a6c4dae69d19",
    "_uuid": "8f2839f25d086af736a60e9eeb907d3b93b6e0e5",
    "execution": {
     "iopub.execute_input": "2020-11-22T21:42:02.563353Z",
     "iopub.status.busy": "2020-11-22T21:42:02.562597Z",
     "iopub.status.idle": "2020-11-22T21:42:03.712507Z",
     "shell.execute_reply": "2020-11-22T21:42:03.711643Z"
    },
    "papermill": {
     "duration": 1.172005,
     "end_time": "2020-11-22T21:42:03.712660",
     "exception": false,
     "start_time": "2020-11-22T21:42:02.540655",
     "status": "completed"
    },
    "tags": []
   },
   "outputs": [],
   "source": [
    "import pandas as pd\n",
    "import numpy as np\n",
    "import matplotlib.pyplot as plt\n",
    "from sklearn.model_selection import train_test_split\n",
    "from sklearn.linear_model import LinearRegression\n",
    "from sklearn import metrics"
   ]
  },
  {
   "cell_type": "markdown",
   "metadata": {
    "papermill": {
     "duration": 0.015764,
     "end_time": "2020-11-22T21:42:03.744967",
     "exception": false,
     "start_time": "2020-11-22T21:42:03.729203",
     "status": "completed"
    },
    "tags": []
   },
   "source": [
    "# Data Analysis"
   ]
  },
  {
   "cell_type": "code",
   "execution_count": 17,
   "metadata": {
    "_cell_guid": "79c7e3d0-c299-4dcb-8224-4455121ee9b0",
    "_uuid": "d629ff2d2480ee46fbb7e2d37f6b5fab8052498a",
    "execution": {
     "iopub.execute_input": "2020-11-22T21:42:03.786647Z",
     "iopub.status.busy": "2020-11-22T21:42:03.785866Z",
     "iopub.status.idle": "2020-11-22T21:42:03.803729Z",
     "shell.execute_reply": "2020-11-22T21:42:03.802963Z"
    },
    "papermill": {
     "duration": 0.042373,
     "end_time": "2020-11-22T21:42:03.803857",
     "exception": false,
     "start_time": "2020-11-22T21:42:03.761484",
     "status": "completed"
    },
    "tags": []
   },
   "outputs": [],
   "source": [
    "# reading dataset\n",
    "data_frame = pd.read_csv('TSLA.csv')"
   ]
  },
  {
   "cell_type": "code",
   "execution_count": 18,
   "metadata": {
    "execution": {
     "iopub.execute_input": "2020-11-22T21:42:03.861756Z",
     "iopub.status.busy": "2020-11-22T21:42:03.856817Z",
     "iopub.status.idle": "2020-11-22T21:42:03.875225Z",
     "shell.execute_reply": "2020-11-22T21:42:03.874134Z"
    },
    "papermill": {
     "duration": 0.055245,
     "end_time": "2020-11-22T21:42:03.875391",
     "exception": false,
     "start_time": "2020-11-22T21:42:03.820146",
     "status": "completed"
    },
    "tags": []
   },
   "outputs": [
    {
     "data": {
      "text/html": [
       "<div>\n",
       "<style scoped>\n",
       "    .dataframe tbody tr th:only-of-type {\n",
       "        vertical-align: middle;\n",
       "    }\n",
       "\n",
       "    .dataframe tbody tr th {\n",
       "        vertical-align: top;\n",
       "    }\n",
       "\n",
       "    .dataframe thead th {\n",
       "        text-align: right;\n",
       "    }\n",
       "</style>\n",
       "<table border=\"1\" class=\"dataframe\">\n",
       "  <thead>\n",
       "    <tr style=\"text-align: right;\">\n",
       "      <th></th>\n",
       "      <th>Date</th>\n",
       "      <th>Open</th>\n",
       "      <th>High</th>\n",
       "      <th>Low</th>\n",
       "      <th>Close</th>\n",
       "      <th>Adj Close</th>\n",
       "      <th>Volume</th>\n",
       "    </tr>\n",
       "  </thead>\n",
       "  <tbody>\n",
       "    <tr>\n",
       "      <th>0</th>\n",
       "      <td>2010-06-29</td>\n",
       "      <td>19.000000</td>\n",
       "      <td>25.00</td>\n",
       "      <td>17.540001</td>\n",
       "      <td>23.889999</td>\n",
       "      <td>23.889999</td>\n",
       "      <td>18766300</td>\n",
       "    </tr>\n",
       "    <tr>\n",
       "      <th>1</th>\n",
       "      <td>2010-06-30</td>\n",
       "      <td>25.790001</td>\n",
       "      <td>30.42</td>\n",
       "      <td>23.299999</td>\n",
       "      <td>23.830000</td>\n",
       "      <td>23.830000</td>\n",
       "      <td>17187100</td>\n",
       "    </tr>\n",
       "    <tr>\n",
       "      <th>2</th>\n",
       "      <td>2010-07-01</td>\n",
       "      <td>25.000000</td>\n",
       "      <td>25.92</td>\n",
       "      <td>20.270000</td>\n",
       "      <td>21.959999</td>\n",
       "      <td>21.959999</td>\n",
       "      <td>8218800</td>\n",
       "    </tr>\n",
       "    <tr>\n",
       "      <th>3</th>\n",
       "      <td>2010-07-02</td>\n",
       "      <td>23.000000</td>\n",
       "      <td>23.10</td>\n",
       "      <td>18.709999</td>\n",
       "      <td>19.200001</td>\n",
       "      <td>19.200001</td>\n",
       "      <td>5139800</td>\n",
       "    </tr>\n",
       "    <tr>\n",
       "      <th>4</th>\n",
       "      <td>2010-07-06</td>\n",
       "      <td>20.000000</td>\n",
       "      <td>20.00</td>\n",
       "      <td>15.830000</td>\n",
       "      <td>16.110001</td>\n",
       "      <td>16.110001</td>\n",
       "      <td>6866900</td>\n",
       "    </tr>\n",
       "  </tbody>\n",
       "</table>\n",
       "</div>"
      ],
      "text/plain": [
       "         Date       Open   High        Low      Close  Adj Close    Volume\n",
       "0  2010-06-29  19.000000  25.00  17.540001  23.889999  23.889999  18766300\n",
       "1  2010-06-30  25.790001  30.42  23.299999  23.830000  23.830000  17187100\n",
       "2  2010-07-01  25.000000  25.92  20.270000  21.959999  21.959999   8218800\n",
       "3  2010-07-02  23.000000  23.10  18.709999  19.200001  19.200001   5139800\n",
       "4  2010-07-06  20.000000  20.00  15.830000  16.110001  16.110001   6866900"
      ]
     },
     "execution_count": 18,
     "metadata": {},
     "output_type": "execute_result"
    }
   ],
   "source": [
    "# data frame head\n",
    "data_frame.head()"
   ]
  },
  {
   "cell_type": "code",
   "execution_count": 19,
   "metadata": {
    "execution": {
     "iopub.execute_input": "2020-11-22T21:42:03.929093Z",
     "iopub.status.busy": "2020-11-22T21:42:03.928266Z",
     "iopub.status.idle": "2020-11-22T21:42:03.932533Z",
     "shell.execute_reply": "2020-11-22T21:42:03.933228Z"
    },
    "papermill": {
     "duration": 0.037904,
     "end_time": "2020-11-22T21:42:03.933406",
     "exception": false,
     "start_time": "2020-11-22T21:42:03.895502",
     "status": "completed"
    },
    "tags": []
   },
   "outputs": [
    {
     "name": "stdout",
     "output_type": "stream",
     "text": [
      "<class 'pandas.core.frame.DataFrame'>\n",
      "RangeIndex: 2416 entries, 0 to 2415\n",
      "Data columns (total 7 columns):\n",
      " #   Column     Non-Null Count  Dtype  \n",
      "---  ------     --------------  -----  \n",
      " 0   Date       2416 non-null   object \n",
      " 1   Open       2416 non-null   float64\n",
      " 2   High       2416 non-null   float64\n",
      " 3   Low        2416 non-null   float64\n",
      " 4   Close      2416 non-null   float64\n",
      " 5   Adj Close  2416 non-null   float64\n",
      " 6   Volume     2416 non-null   int64  \n",
      "dtypes: float64(5), int64(1), object(1)\n",
      "memory usage: 132.2+ KB\n"
     ]
    }
   ],
   "source": [
    "# fetching dataset info\n",
    "data_frame.info()"
   ]
  },
  {
   "cell_type": "code",
   "execution_count": 20,
   "metadata": {
    "execution": {
     "iopub.execute_input": "2020-11-22T21:42:03.978505Z",
     "iopub.status.busy": "2020-11-22T21:42:03.977684Z",
     "iopub.status.idle": "2020-11-22T21:42:04.010829Z",
     "shell.execute_reply": "2020-11-22T21:42:04.010020Z"
    },
    "papermill": {
     "duration": 0.059771,
     "end_time": "2020-11-22T21:42:04.010958",
     "exception": false,
     "start_time": "2020-11-22T21:42:03.951187",
     "status": "completed"
    },
    "tags": []
   },
   "outputs": [
    {
     "data": {
      "text/html": [
       "<div>\n",
       "<style scoped>\n",
       "    .dataframe tbody tr th:only-of-type {\n",
       "        vertical-align: middle;\n",
       "    }\n",
       "\n",
       "    .dataframe tbody tr th {\n",
       "        vertical-align: top;\n",
       "    }\n",
       "\n",
       "    .dataframe thead th {\n",
       "        text-align: right;\n",
       "    }\n",
       "</style>\n",
       "<table border=\"1\" class=\"dataframe\">\n",
       "  <thead>\n",
       "    <tr style=\"text-align: right;\">\n",
       "      <th></th>\n",
       "      <th>Open</th>\n",
       "      <th>High</th>\n",
       "      <th>Low</th>\n",
       "      <th>Close</th>\n",
       "      <th>Adj Close</th>\n",
       "      <th>Volume</th>\n",
       "    </tr>\n",
       "  </thead>\n",
       "  <tbody>\n",
       "    <tr>\n",
       "      <th>count</th>\n",
       "      <td>2416.000000</td>\n",
       "      <td>2416.000000</td>\n",
       "      <td>2416.000000</td>\n",
       "      <td>2416.000000</td>\n",
       "      <td>2416.000000</td>\n",
       "      <td>2.416000e+03</td>\n",
       "    </tr>\n",
       "    <tr>\n",
       "      <th>mean</th>\n",
       "      <td>186.271147</td>\n",
       "      <td>189.578224</td>\n",
       "      <td>182.916639</td>\n",
       "      <td>186.403651</td>\n",
       "      <td>186.403651</td>\n",
       "      <td>5.572722e+06</td>\n",
       "    </tr>\n",
       "    <tr>\n",
       "      <th>std</th>\n",
       "      <td>118.740163</td>\n",
       "      <td>120.892329</td>\n",
       "      <td>116.857591</td>\n",
       "      <td>119.136020</td>\n",
       "      <td>119.136020</td>\n",
       "      <td>4.987809e+06</td>\n",
       "    </tr>\n",
       "    <tr>\n",
       "      <th>min</th>\n",
       "      <td>16.139999</td>\n",
       "      <td>16.629999</td>\n",
       "      <td>14.980000</td>\n",
       "      <td>15.800000</td>\n",
       "      <td>15.800000</td>\n",
       "      <td>1.185000e+05</td>\n",
       "    </tr>\n",
       "    <tr>\n",
       "      <th>25%</th>\n",
       "      <td>34.342498</td>\n",
       "      <td>34.897501</td>\n",
       "      <td>33.587501</td>\n",
       "      <td>34.400002</td>\n",
       "      <td>34.400002</td>\n",
       "      <td>1.899275e+06</td>\n",
       "    </tr>\n",
       "    <tr>\n",
       "      <th>50%</th>\n",
       "      <td>213.035003</td>\n",
       "      <td>216.745002</td>\n",
       "      <td>208.870002</td>\n",
       "      <td>212.960007</td>\n",
       "      <td>212.960007</td>\n",
       "      <td>4.578400e+06</td>\n",
       "    </tr>\n",
       "    <tr>\n",
       "      <th>75%</th>\n",
       "      <td>266.450012</td>\n",
       "      <td>270.927513</td>\n",
       "      <td>262.102501</td>\n",
       "      <td>266.774994</td>\n",
       "      <td>266.774994</td>\n",
       "      <td>7.361150e+06</td>\n",
       "    </tr>\n",
       "    <tr>\n",
       "      <th>max</th>\n",
       "      <td>673.690002</td>\n",
       "      <td>786.140015</td>\n",
       "      <td>673.520020</td>\n",
       "      <td>780.000000</td>\n",
       "      <td>780.000000</td>\n",
       "      <td>4.706500e+07</td>\n",
       "    </tr>\n",
       "  </tbody>\n",
       "</table>\n",
       "</div>"
      ],
      "text/plain": [
       "              Open         High          Low        Close    Adj Close  \\\n",
       "count  2416.000000  2416.000000  2416.000000  2416.000000  2416.000000   \n",
       "mean    186.271147   189.578224   182.916639   186.403651   186.403651   \n",
       "std     118.740163   120.892329   116.857591   119.136020   119.136020   \n",
       "min      16.139999    16.629999    14.980000    15.800000    15.800000   \n",
       "25%      34.342498    34.897501    33.587501    34.400002    34.400002   \n",
       "50%     213.035003   216.745002   208.870002   212.960007   212.960007   \n",
       "75%     266.450012   270.927513   262.102501   266.774994   266.774994   \n",
       "max     673.690002   786.140015   673.520020   780.000000   780.000000   \n",
       "\n",
       "             Volume  \n",
       "count  2.416000e+03  \n",
       "mean   5.572722e+06  \n",
       "std    4.987809e+06  \n",
       "min    1.185000e+05  \n",
       "25%    1.899275e+06  \n",
       "50%    4.578400e+06  \n",
       "75%    7.361150e+06  \n",
       "max    4.706500e+07  "
      ]
     },
     "execution_count": 20,
     "metadata": {},
     "output_type": "execute_result"
    }
   ],
   "source": [
    "# statistical analysis of dataset\n",
    "data_frame.describe()"
   ]
  },
  {
   "cell_type": "code",
   "execution_count": 22,
   "metadata": {
    "execution": {
     "iopub.execute_input": "2020-11-22T21:42:04.060477Z",
     "iopub.status.busy": "2020-11-22T21:42:04.059545Z",
     "iopub.status.idle": "2020-11-22T21:42:04.063619Z",
     "shell.execute_reply": "2020-11-22T21:42:04.062739Z"
    },
    "papermill": {
     "duration": 0.03152,
     "end_time": "2020-11-22T21:42:04.063769",
     "exception": false,
     "start_time": "2020-11-22T21:42:04.032249",
     "status": "completed"
    },
    "tags": []
   },
   "outputs": [],
   "source": [
    "# diving the dataset into X and Y axis\n",
    "x = data_frame[['High', 'Low', 'Open', 'Volume']].values\n",
    "y = data_frame['Close'].values"
   ]
  },
  {
   "cell_type": "markdown",
   "metadata": {
    "papermill": {
     "duration": 0.019329,
     "end_time": "2020-11-22T21:42:04.104143",
     "exception": false,
     "start_time": "2020-11-22T21:42:04.084814",
     "status": "completed"
    },
    "tags": []
   },
   "source": [
    "# Prediction Model"
   ]
  },
  {
   "cell_type": "code",
   "execution_count": 23,
   "metadata": {
    "execution": {
     "iopub.execute_input": "2020-11-22T21:42:04.150578Z",
     "iopub.status.busy": "2020-11-22T21:42:04.149627Z",
     "iopub.status.idle": "2020-11-22T21:42:04.154588Z",
     "shell.execute_reply": "2020-11-22T21:42:04.153351Z"
    },
    "papermill": {
     "duration": 0.030731,
     "end_time": "2020-11-22T21:42:04.154720",
     "exception": false,
     "start_time": "2020-11-22T21:42:04.123989",
     "status": "completed"
    },
    "tags": []
   },
   "outputs": [],
   "source": [
    "# Dividing dataset into training and test sets\n",
    "X_train, X_test, y_train, y_test = train_test_split(X,y, test_size=0.2, random_state=1)"
   ]
  },
  {
   "cell_type": "code",
   "execution_count": 24,
   "metadata": {
    "execution": {
     "iopub.execute_input": "2020-11-22T21:42:04.199696Z",
     "iopub.status.busy": "2020-11-22T21:42:04.198861Z",
     "iopub.status.idle": "2020-11-22T21:42:04.202575Z",
     "shell.execute_reply": "2020-11-22T21:42:04.201808Z"
    },
    "papermill": {
     "duration": 0.028993,
     "end_time": "2020-11-22T21:42:04.202702",
     "exception": false,
     "start_time": "2020-11-22T21:42:04.173709",
     "status": "completed"
    },
    "tags": []
   },
   "outputs": [],
   "source": [
    "# prediction model object\n",
    "linear_regression_obj = LinearRegression()"
   ]
  },
  {
   "cell_type": "code",
   "execution_count": 25,
   "metadata": {
    "execution": {
     "iopub.execute_input": "2020-11-22T21:42:04.264555Z",
     "iopub.status.busy": "2020-11-22T21:42:04.246996Z",
     "iopub.status.idle": "2020-11-22T21:42:04.330769Z",
     "shell.execute_reply": "2020-11-22T21:42:04.329889Z"
    },
    "papermill": {
     "duration": 0.108963,
     "end_time": "2020-11-22T21:42:04.330923",
     "exception": false,
     "start_time": "2020-11-22T21:42:04.221960",
     "status": "completed"
    },
    "tags": []
   },
   "outputs": [
    {
     "data": {
      "text/plain": [
       "LinearRegression()"
      ]
     },
     "execution_count": 25,
     "metadata": {},
     "output_type": "execute_result"
    }
   ],
   "source": [
    "# training model\n",
    "linear_regression_obj.fit(X_train, y_train)"
   ]
  },
  {
   "cell_type": "code",
   "execution_count": 26,
   "metadata": {
    "execution": {
     "iopub.execute_input": "2020-11-22T21:42:04.381430Z",
     "iopub.status.busy": "2020-11-22T21:42:04.380504Z",
     "iopub.status.idle": "2020-11-22T21:42:04.384848Z",
     "shell.execute_reply": "2020-11-22T21:42:04.384136Z"
    },
    "papermill": {
     "duration": 0.030742,
     "end_time": "2020-11-22T21:42:04.384976",
     "exception": false,
     "start_time": "2020-11-22T21:42:04.354234",
     "status": "completed"
    },
    "tags": []
   },
   "outputs": [
    {
     "name": "stdout",
     "output_type": "stream",
     "text": [
      "[ 8.44926735e-01  7.95604390e-01 -6.40878154e-01  8.50437920e-09]\n"
     ]
    }
   ],
   "source": [
    "print(linear_regression_obj.coef_)"
   ]
  },
  {
   "cell_type": "code",
   "execution_count": 27,
   "metadata": {
    "execution": {
     "iopub.execute_input": "2020-11-22T21:42:04.433146Z",
     "iopub.status.busy": "2020-11-22T21:42:04.431999Z",
     "iopub.status.idle": "2020-11-22T21:42:04.437087Z",
     "shell.execute_reply": "2020-11-22T21:42:04.436079Z"
    },
    "papermill": {
     "duration": 0.031528,
     "end_time": "2020-11-22T21:42:04.437252",
     "exception": false,
     "start_time": "2020-11-22T21:42:04.405724",
     "status": "completed"
    },
    "tags": []
   },
   "outputs": [
    {
     "name": "stdout",
     "output_type": "stream",
     "text": [
      "-0.017167689132492114\n"
     ]
    }
   ],
   "source": [
    "print(linear_regression_obj.intercept_)"
   ]
  },
  {
   "cell_type": "code",
   "execution_count": 28,
   "metadata": {
    "execution": {
     "iopub.execute_input": "2020-11-22T21:42:04.486923Z",
     "iopub.status.busy": "2020-11-22T21:42:04.486029Z",
     "iopub.status.idle": "2020-11-22T21:42:04.490157Z",
     "shell.execute_reply": "2020-11-22T21:42:04.489280Z"
    },
    "papermill": {
     "duration": 0.030642,
     "end_time": "2020-11-22T21:42:04.490296",
     "exception": false,
     "start_time": "2020-11-22T21:42:04.459654",
     "status": "completed"
    },
    "tags": []
   },
   "outputs": [],
   "source": [
    "# prediction\n",
    "predicted = linear_regression_obj.predict(X_test)"
   ]
  },
  {
   "cell_type": "code",
   "execution_count": 29,
   "metadata": {},
   "outputs": [],
   "source": [
    "observation_data_frame = pd.DataFrame({'Actual': y_test.flatten(), 'Predicted' : predicted.flatten()})"
   ]
  },
  {
   "cell_type": "code",
   "execution_count": 30,
   "metadata": {},
   "outputs": [
    {
     "data": {
      "text/html": [
       "<div>\n",
       "<style scoped>\n",
       "    .dataframe tbody tr th:only-of-type {\n",
       "        vertical-align: middle;\n",
       "    }\n",
       "\n",
       "    .dataframe tbody tr th {\n",
       "        vertical-align: top;\n",
       "    }\n",
       "\n",
       "    .dataframe thead th {\n",
       "        text-align: right;\n",
       "    }\n",
       "</style>\n",
       "<table border=\"1\" class=\"dataframe\">\n",
       "  <thead>\n",
       "    <tr style=\"text-align: right;\">\n",
       "      <th></th>\n",
       "      <th>Actual</th>\n",
       "      <th>Predicted</th>\n",
       "    </tr>\n",
       "  </thead>\n",
       "  <tbody>\n",
       "    <tr>\n",
       "      <th>0</th>\n",
       "      <td>29.940001</td>\n",
       "      <td>29.820981</td>\n",
       "    </tr>\n",
       "    <tr>\n",
       "      <th>1</th>\n",
       "      <td>235.839996</td>\n",
       "      <td>235.198016</td>\n",
       "    </tr>\n",
       "    <tr>\n",
       "      <th>2</th>\n",
       "      <td>362.750000</td>\n",
       "      <td>364.750965</td>\n",
       "    </tr>\n",
       "    <tr>\n",
       "      <th>3</th>\n",
       "      <td>24.740000</td>\n",
       "      <td>24.958968</td>\n",
       "    </tr>\n",
       "    <tr>\n",
       "      <th>4</th>\n",
       "      <td>250.029999</td>\n",
       "      <td>247.639248</td>\n",
       "    </tr>\n",
       "    <tr>\n",
       "      <th>5</th>\n",
       "      <td>334.850006</td>\n",
       "      <td>336.918477</td>\n",
       "    </tr>\n",
       "    <tr>\n",
       "      <th>6</th>\n",
       "      <td>222.600006</td>\n",
       "      <td>221.993347</td>\n",
       "    </tr>\n",
       "    <tr>\n",
       "      <th>7</th>\n",
       "      <td>203.759995</td>\n",
       "      <td>204.866172</td>\n",
       "    </tr>\n",
       "    <tr>\n",
       "      <th>8</th>\n",
       "      <td>209.600006</td>\n",
       "      <td>211.643778</td>\n",
       "    </tr>\n",
       "    <tr>\n",
       "      <th>9</th>\n",
       "      <td>294.790009</td>\n",
       "      <td>295.205807</td>\n",
       "    </tr>\n",
       "    <tr>\n",
       "      <th>10</th>\n",
       "      <td>378.989990</td>\n",
       "      <td>381.955629</td>\n",
       "    </tr>\n",
       "    <tr>\n",
       "      <th>11</th>\n",
       "      <td>35.000000</td>\n",
       "      <td>35.026633</td>\n",
       "    </tr>\n",
       "    <tr>\n",
       "      <th>12</th>\n",
       "      <td>365.709991</td>\n",
       "      <td>368.842420</td>\n",
       "    </tr>\n",
       "    <tr>\n",
       "      <th>13</th>\n",
       "      <td>31.360001</td>\n",
       "      <td>30.986625</td>\n",
       "    </tr>\n",
       "    <tr>\n",
       "      <th>14</th>\n",
       "      <td>279.760010</td>\n",
       "      <td>278.988020</td>\n",
       "    </tr>\n",
       "    <tr>\n",
       "      <th>15</th>\n",
       "      <td>259.959991</td>\n",
       "      <td>257.118670</td>\n",
       "    </tr>\n",
       "    <tr>\n",
       "      <th>16</th>\n",
       "      <td>25.830000</td>\n",
       "      <td>25.888698</td>\n",
       "    </tr>\n",
       "    <tr>\n",
       "      <th>17</th>\n",
       "      <td>37.689999</td>\n",
       "      <td>37.693034</td>\n",
       "    </tr>\n",
       "    <tr>\n",
       "      <th>18</th>\n",
       "      <td>180.949997</td>\n",
       "      <td>180.927608</td>\n",
       "    </tr>\n",
       "    <tr>\n",
       "      <th>19</th>\n",
       "      <td>31.840000</td>\n",
       "      <td>31.402400</td>\n",
       "    </tr>\n",
       "    <tr>\n",
       "      <th>20</th>\n",
       "      <td>254.990005</td>\n",
       "      <td>252.367645</td>\n",
       "    </tr>\n",
       "    <tr>\n",
       "      <th>21</th>\n",
       "      <td>286.480011</td>\n",
       "      <td>286.164307</td>\n",
       "    </tr>\n",
       "    <tr>\n",
       "      <th>22</th>\n",
       "      <td>32.700001</td>\n",
       "      <td>32.334972</td>\n",
       "    </tr>\n",
       "    <tr>\n",
       "      <th>23</th>\n",
       "      <td>21.290001</td>\n",
       "      <td>21.380229</td>\n",
       "    </tr>\n",
       "    <tr>\n",
       "      <th>24</th>\n",
       "      <td>17.459999</td>\n",
       "      <td>16.895317</td>\n",
       "    </tr>\n",
       "  </tbody>\n",
       "</table>\n",
       "</div>"
      ],
      "text/plain": [
       "        Actual   Predicted\n",
       "0    29.940001   29.820981\n",
       "1   235.839996  235.198016\n",
       "2   362.750000  364.750965\n",
       "3    24.740000   24.958968\n",
       "4   250.029999  247.639248\n",
       "5   334.850006  336.918477\n",
       "6   222.600006  221.993347\n",
       "7   203.759995  204.866172\n",
       "8   209.600006  211.643778\n",
       "9   294.790009  295.205807\n",
       "10  378.989990  381.955629\n",
       "11   35.000000   35.026633\n",
       "12  365.709991  368.842420\n",
       "13   31.360001   30.986625\n",
       "14  279.760010  278.988020\n",
       "15  259.959991  257.118670\n",
       "16   25.830000   25.888698\n",
       "17   37.689999   37.693034\n",
       "18  180.949997  180.927608\n",
       "19   31.840000   31.402400\n",
       "20  254.990005  252.367645\n",
       "21  286.480011  286.164307\n",
       "22   32.700001   32.334972\n",
       "23   21.290001   21.380229\n",
       "24   17.459999   16.895317"
      ]
     },
     "execution_count": 30,
     "metadata": {},
     "output_type": "execute_result"
    }
   ],
   "source": [
    "observation_data_frame.head(25)"
   ]
  },
  {
   "cell_type": "code",
   "execution_count": 31,
   "metadata": {
    "execution": {
     "iopub.execute_input": "2020-11-22T21:42:04.725528Z",
     "iopub.status.busy": "2020-11-22T21:42:04.724635Z",
     "iopub.status.idle": "2020-11-22T21:42:04.729135Z",
     "shell.execute_reply": "2020-11-22T21:42:04.729887Z"
    },
    "papermill": {
     "duration": 0.03674,
     "end_time": "2020-11-22T21:42:04.730096",
     "exception": false,
     "start_time": "2020-11-22T21:42:04.693356",
     "status": "completed"
    },
    "tags": []
   },
   "outputs": [
    {
     "name": "stdout",
     "output_type": "stream",
     "text": [
      "Mean Absolute Error: 1.4127118740194249\n",
      "Mean Squared Error: 4.489436178440092\n",
      "Root Mean Squared Error: 2.118828963942133\n"
     ]
    }
   ],
   "source": [
    "import math\n",
    "print('Mean Absolute Error:', metrics.mean_absolute_error(y_test,predicted))\n",
    "print('Mean Squared Error:', metrics.mean_squared_error(y_test,predicted))\n",
    "print('Root Mean Squared Error:', math.sqrt(metrics.mean_squared_error(y_test,predicted)))"
   ]
  },
  {
   "cell_type": "code",
   "execution_count": 32,
   "metadata": {
    "execution": {
     "iopub.execute_input": "2020-11-22T21:42:04.783964Z",
     "iopub.status.busy": "2020-11-22T21:42:04.783162Z",
     "iopub.status.idle": "2020-11-22T21:42:04.786147Z",
     "shell.execute_reply": "2020-11-22T21:42:04.785448Z"
    },
    "papermill": {
     "duration": 0.032134,
     "end_time": "2020-11-22T21:42:04.786268",
     "exception": false,
     "start_time": "2020-11-22T21:42:04.754134",
     "status": "completed"
    },
    "tags": []
   },
   "outputs": [],
   "source": [
    "graph = observation_data_frame.head(20)"
   ]
  },
  {
   "cell_type": "code",
   "execution_count": 33,
   "metadata": {
    "execution": {
     "iopub.execute_input": "2020-11-22T21:42:04.838509Z",
     "iopub.status.busy": "2020-11-22T21:42:04.837694Z",
     "iopub.status.idle": "2020-11-22T21:42:05.233882Z",
     "shell.execute_reply": "2020-11-22T21:42:05.232989Z"
    },
    "papermill": {
     "duration": 0.4244,
     "end_time": "2020-11-22T21:42:05.234020",
     "exception": false,
     "start_time": "2020-11-22T21:42:04.809620",
     "status": "completed"
    },
    "tags": []
   },
   "outputs": [
    {
     "data": {
      "text/plain": [
       "<AxesSubplot:>"
      ]
     },
     "execution_count": 33,
     "metadata": {},
     "output_type": "execute_result"
    },
    {
     "data": {
      "image/png": "[encoded data removed]",
      "text/plain": [
       "<Figure size 432x288 with 1 Axes>"
      ]
     },
     "metadata": {
      "needs_background": "light"
     },
     "output_type": "display_data"
    }
   ],
   "source": [
    "graph.plot(kind='bar')"
   ]
  },
  {
   "cell_type": "code",
   "execution_count": null,
   "metadata": {},
   "outputs": [],
   "source": []
  }
 ],
 "metadata": {
  "kernelspec": {
   "display_name": "Python 3",
   "language": "python",
   "name": "python3"
  },
  "language_info": {
   "codemirror_mode": {
    "name": "ipython",
    "version": 3
   },
   "file_extension": ".py",
   "mimetype": "text/x-python",
   "name": "python",
   "nbconvert_exporter": "python",
   "pygments_lexer": "ipython3",
   "version": "3.6.13"
  },
  "papermill": {
   "duration": 8.995087,
   "end_time": "2020-11-22T21:42:06.343931",
   "environment_variables": {},
   "exception": null,
   "input_path": "__notebook__.ipynb",
   "output_path": "__notebook__.ipynb",
   "parameters": {},
   "start_time": "2020-11-22T21:41:57.348844",
   "version": "2.1.0"
  }
 },
 "nbformat": 4,
 "nbformat_minor": 4
}
